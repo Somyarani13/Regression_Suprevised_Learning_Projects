{
 "cells": [
  {
   "cell_type": "code",
   "execution_count": 1,
   "metadata": {},
   "outputs": [],
   "source": [
    "# libraries are tools which takes the input that you give and gives exactly the output that you want.\n",
    "#importing the libraries\n",
    "import numpy as np                 # Contains many mathematical tools\n",
    "import matplotlib.pyplot  as plt   #Used for plotting and Visualizing the data\n",
    "import pandas as pd                #Used for importing and managing datasets"
   ]
  },
  {
   "cell_type": "code",
   "execution_count": 2,
   "metadata": {},
   "outputs": [],
   "source": [
    "#Data Preprocessing\n",
    "\n",
    "#Importing the dataset\n",
    "\n",
    "dataset = pd.read_csv('Salary_Data.csv')\n",
    "\n",
    "#Importing the Independent and Dependent Variables\n",
    "\n",
    "X = dataset.iloc[: , :-1].values          #Importing the independent variable\n",
    "y = dataset.iloc[: , 1].values           #Importing the dependent variable"
   ]
  },
  {
   "cell_type": "code",
   "execution_count": 3,
   "metadata": {},
   "outputs": [
    {
     "name": "stdout",
     "output_type": "stream",
     "text": [
      "[[ 1.1]\n",
      " [ 1.3]\n",
      " [ 1.5]\n",
      " [ 2. ]\n",
      " [ 2.2]\n",
      " [ 2.9]\n",
      " [ 3. ]\n",
      " [ 3.2]\n",
      " [ 3.2]\n",
      " [ 3.7]\n",
      " [ 3.9]\n",
      " [ 4. ]\n",
      " [ 4. ]\n",
      " [ 4.1]\n",
      " [ 4.5]\n",
      " [ 4.9]\n",
      " [ 5.1]\n",
      " [ 5.3]\n",
      " [ 5.9]\n",
      " [ 6. ]\n",
      " [ 6.8]\n",
      " [ 7.1]\n",
      " [ 7.9]\n",
      " [ 8.2]\n",
      " [ 8.7]\n",
      " [ 9. ]\n",
      " [ 9.5]\n",
      " [ 9.6]\n",
      " [10.3]\n",
      " [10.5]]\n"
     ]
    }
   ],
   "source": [
    "print(X)"
   ]
  },
  {
   "cell_type": "code",
   "execution_count": 4,
   "metadata": {},
   "outputs": [
    {
     "name": "stdout",
     "output_type": "stream",
     "text": [
      "[ 39343  46205  37731  43525  39891  56642  60150  54445  64445  57189\n",
      "  63218  55794  56957  57081  61111  67938  66029  83088  81363  93940\n",
      "  91738  98273 101302 113812 109431 105582 116969 112635 122391 121872]\n"
     ]
    }
   ],
   "source": [
    "print(y)"
   ]
  },
  {
   "cell_type": "code",
   "execution_count": 5,
   "metadata": {},
   "outputs": [
    {
     "name": "stderr",
     "output_type": "stream",
     "text": [
      "C:\\Users\\ranis\\Anaconda3\\lib\\site-packages\\sklearn\\cross_validation.py:41: DeprecationWarning: This module was deprecated in version 0.18 in favor of the model_selection module into which all the refactored classes and functions are moved. Also note that the interface of the new CV iterators are different from that of this module. This module will be removed in 0.20.\n",
      "  \"This module will be removed in 0.20.\", DeprecationWarning)\n"
     ]
    }
   ],
   "source": [
    "#Splitting the dataset into test set and train set\n",
    "\n",
    "#For splitting of tHE DATA only 20% goes for the test set while the rest 80% goes to the training set. It is for the test set that\n",
    "#the regressor model checks its predictions and from the training set it learns as to what is the best fit for the trained data \n",
    "#and brings out predictions which compares how well does the true salaries matches the predicted salaries for each employee.\n",
    "\n",
    "#If the model is not splitted into test and training set and made to learn and predict form the same data and also made to be tested for the same data will lead to OVERFITTING of the dataset.\n",
    "#Since the model would just repeat the lables of the samples and would get a perfect score  for the seen data but for the unseen data\n",
    "#it wont be able to preduct anything new.\n",
    "\n",
    "#for splitting the dataset into test and train set we use the Sklearn library which contains many tools for efficient model building\n",
    "\n",
    "from sklearn.cross_validation import train_test_split\n",
    "X_train , X_test , y_train , y_test = train_test_split(X , y , test_size = 1/3 , random_state = 0)"
   ]
  },
  {
   "cell_type": "code",
   "execution_count": 6,
   "metadata": {},
   "outputs": [
    {
     "name": "stdout",
     "output_type": "stream",
     "text": [
      "[[ 2.9]\n",
      " [ 5.1]\n",
      " [ 3.2]\n",
      " [ 4.5]\n",
      " [ 8.2]\n",
      " [ 6.8]\n",
      " [ 1.3]\n",
      " [10.5]\n",
      " [ 3. ]\n",
      " [ 2.2]\n",
      " [ 5.9]\n",
      " [ 6. ]\n",
      " [ 3.7]\n",
      " [ 3.2]\n",
      " [ 9. ]\n",
      " [ 2. ]\n",
      " [ 1.1]\n",
      " [ 7.1]\n",
      " [ 4.9]\n",
      " [ 4. ]] [ 56642  66029  64445  61111 113812  91738  46205 121872  60150  39891\n",
      "  81363  93940  57189  54445 105582  43525  39343  98273  67938  56957]\n",
      "[[ 1.5]\n",
      " [10.3]\n",
      " [ 4.1]\n",
      " [ 3.9]\n",
      " [ 9.5]\n",
      " [ 8.7]\n",
      " [ 9.6]\n",
      " [ 4. ]\n",
      " [ 5.3]\n",
      " [ 7.9]] [ 37731 122391  57081  63218 116969 109431 112635  55794  83088 101302]\n"
     ]
    }
   ],
   "source": [
    "print(X_train , y_train)\n",
    "print(X_test , y_test)"
   ]
  },
  {
   "cell_type": "code",
   "execution_count": 7,
   "metadata": {},
   "outputs": [
    {
     "data": {
      "text/plain": [
       "LinearRegression(copy_X=True, fit_intercept=True, n_jobs=1, normalize=False)"
      ]
     },
     "execution_count": 7,
     "metadata": {},
     "output_type": "execute_result"
    }
   ],
   "source": [
    "# Fitting the Simple Linear Regression to the training set\n",
    "\n",
    "#We need to fit the Simple Linear Regression to our training set and \"sklearn.linear_model\" is the library that is used. Since we are building a Linear \n",
    "#Regressor model so we import the \"linear Regression\" class.\n",
    "\n",
    "from sklearn.linear_model import LinearRegression\n",
    "\n",
    "regressor = LinearRegression()                     #Created an object(regressor) of the class\n",
    "\n",
    "#We now use a method of this class to fit the model to the training set. Here we specify that for which dataset the model should be trained. Since these are \n",
    "#the independent varibles for which we want the model to learn and predict so we take the \"X_train,y_train\"\n",
    "\n",
    "regressor.fit(X_train , y_train)                  \n",
    "\n"
   ]
  },
  {
   "cell_type": "code",
   "execution_count": 8,
   "metadata": {},
   "outputs": [],
   "source": [
    "#Predicting the test set results\n",
    "\n",
    "#We create a vector that contains the predicted test set salaries of the employees depending upon the years of experience which in this dataset \n",
    "#is the independent variable\n",
    "\n",
    "y_pred = regressor.predict(X_test) # regressor is the  machine learning model tat we have made and prediction is the method of preediction of salaries.\n",
    "\n"
   ]
  },
  {
   "cell_type": "code",
   "execution_count": 9,
   "metadata": {},
   "outputs": [
    {
     "name": "stdout",
     "output_type": "stream",
     "text": [
      "[[ 1.5]\n",
      " [10.3]\n",
      " [ 4.1]\n",
      " [ 3.9]\n",
      " [ 9.5]\n",
      " [ 8.7]\n",
      " [ 9.6]\n",
      " [ 4. ]\n",
      " [ 5.3]\n",
      " [ 7.9]]\n",
      "[ 40835.10590871 123079.39940819  65134.55626083  63265.36777221\n",
      " 115602.64545369 108125.8914992  116537.23969801  64199.96201652\n",
      "  76349.68719258 100649.1375447 ]\n"
     ]
    }
   ],
   "source": [
    "print(X_test)\n",
    "print(y_pred)"
   ]
  },
  {
   "cell_type": "code",
   "execution_count": 13,
   "metadata": {},
   "outputs": [
    {
     "data": {
      "text/plain": [
       "Text(0,0.5,'Salary')"
      ]
     },
     "execution_count": 13,
     "metadata": {},
     "output_type": "execute_result"
    },
    {
     "data": {
      "image/png": "[encoded data removed]",
      "text/plain": [
       "<Figure size 432x288 with 1 Axes>"
      ]
     },
     "metadata": {},
     "output_type": "display_data"
    }
   ],
   "source": [
    "#Visualize the training set results\n",
    "\n",
    "plt.scatter(X_train , y_train , color = 'red')                  #plt shows the real salaries of the employees for the working yrs of experience\n",
    "plt.plot(X_train , regressor.predict(X_train) , color = 'blue') #plt shows the predicted value of salaries for the working yrsn of experience\n",
    "plt.title('Salary vs Yrs of Exp(training results)')\n",
    "plt.xlabel('Yrs of Experience')\n",
    "plt.ylabel('Salary')"
   ]
  },
  {
   "cell_type": "code",
   "execution_count": 16,
   "metadata": {},
   "outputs": [
    {
     "data": {
      "text/plain": [
       "Text(0,0.5,'Salary')"
      ]
     },
     "execution_count": 16,
     "metadata": {},
     "output_type": "execute_result"
    },
    {
     "data": {
      "image/png": "[encoded data removed]",
      "text/plain": [
       "<Figure size 432x288 with 1 Axes>"
      ]
     },
     "metadata": {},
     "output_type": "display_data"
    }
   ],
   "source": [
    "#Visualize the test set results\n",
    "\n",
    "plt.scatter(X_test , y_test ,  color = 'red')\n",
    "plt.plot(X_train , regressor.predict(X_train) , color = 'blue')\n",
    "plt.title('Salary vs Yrs of Exp(training results)')\n",
    "plt.xlabel('Yrs of Experience')\n",
    "plt.ylabel('Salary')"
   ]
  },
  {
   "cell_type": "code",
   "execution_count": null,
   "metadata": {},
   "outputs": [],
   "source": []
  }
 ],
 "metadata": {
  "kernelspec": {
   "display_name": "Python 3",
   "language": "python",
   "name": "python3"
  },
  "language_info": {
   "codemirror_mode": {
    "name": "ipython",
    "version": 3
   },
   "file_extension": ".py",
   "mimetype": "text/x-python",
   "name": "python",
   "nbconvert_exporter": "python",
   "pygments_lexer": "ipython3",
   "version": "3.6.5"
  }
 },
 "nbformat": 4,
 "nbformat_minor": 2
}
